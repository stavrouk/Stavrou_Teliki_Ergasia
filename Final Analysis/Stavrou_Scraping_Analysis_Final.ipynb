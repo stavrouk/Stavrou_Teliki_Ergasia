{
  "nbformat": 4,
  "nbformat_minor": 0,
  "metadata": {
    "colab": {
      "name": "Stavrou_Scraping_Analysis_Final.ipynb",
      "provenance": [],
      "collapsed_sections": []
    },
    "kernelspec": {
      "display_name": "Python 3",
      "name": "python3"
    },
    "language_info": {
      "name": "python"
    }
  },
  "cells": [
    {
      "cell_type": "markdown",
      "metadata": {
        "id": "V-yfkm3n88LB"
      },
      "source": [
        "# Εισάγουμε τις απαραίτητες βιβλιοθήκες"
      ]
    },
    {
      "cell_type": "code",
      "metadata": {
        "id": "LyfncvLk85Wq"
      },
      "source": [
        "import requests\n",
        "from bs4 import BeautifulSoup\n",
        "import pandas as pd\n",
        "from datetime import datetime\n",
        "import ast\n",
        "import time\n",
        "import numpy as np\n",
        "import matplotlib as mpl\n",
        "import matplotlib.pyplot as plt\n",
        "%matplotlib inline\n",
        "import warnings\n",
        "warnings.filterwarnings('ignore')\n",
        "import os"
      ],
      "execution_count": null,
      "outputs": []
    },
    {
      "cell_type": "markdown",
      "metadata": {
        "id": "jFkOjJ_JJBWD"
      },
      "source": [
        "## Εισάγουμε τα δεδομένα και κρατάμε τις στήλες που χρειαζόμαστε"
      ]
    },
    {
      "cell_type": "code",
      "metadata": {
        "id": "FhwSAK2i85ZP"
      },
      "source": [
        "skai_df = pd.read_csv(\"https://raw.githubusercontent.com/stavrouk/Stavrou_Teliki_Ergasia/main/Scraping/skai_emvolio.csv\")"
      ],
      "execution_count": null,
      "outputs": []
    },
    {
      "cell_type": "code",
      "metadata": {
        "id": "7idMfT_u85bt"
      },
      "source": [
        "skai_df= skai_df[['title' , 'date' , 'summary' , 'body']]"
      ],
      "execution_count": null,
      "outputs": []
    },
    {
      "cell_type": "code",
      "metadata": {
        "id": "qyjXZAxfI5rZ"
      },
      "source": [
        "skai_df.head()"
      ],
      "execution_count": 58,
      "outputs": []
    },
    {
      "cell_type": "code",
      "metadata": {
        "colab": {
          "base_uri": "https://localhost:8080/"
        },
        "id": "SRTBvdG6Bhpr",
        "outputId": "3739d874-f620-4c44-d3a9-f1dfdd143976"
      },
      "source": [
        "len(skai_df)"
      ],
      "execution_count": null,
      "outputs": [
        {
          "output_type": "execute_result",
          "data": {
            "text/plain": [
              "1795"
            ]
          },
          "metadata": {
            "tags": []
          },
          "execution_count": 5
        }
      ]
    },
    {
      "cell_type": "code",
      "metadata": {
        "id": "-IkQ_pCR85d4"
      },
      "source": [
        "star_df = pd.read_csv(\"https://raw.githubusercontent.com/stavrouk/Stavrou_Teliki_Ergasia/main/Scraping/star_emvolio.csv\")"
      ],
      "execution_count": null,
      "outputs": []
    },
    {
      "cell_type": "code",
      "metadata": {
        "id": "q38dzBId85gU"
      },
      "source": [
        "star_df= star_df[['title' , 'date' , 'summary' , 'body']]"
      ],
      "execution_count": null,
      "outputs": []
    },
    {
      "cell_type": "code",
      "metadata": {
        "id": "R1vZiUQD85i5"
      },
      "source": [
        "star_df.head()"
      ],
      "execution_count": 59,
      "outputs": []
    },
    {
      "cell_type": "code",
      "metadata": {
        "colab": {
          "base_uri": "https://localhost:8080/"
        },
        "id": "6a6cS8qVBk2t",
        "outputId": "fc860d3f-5c84-4d69-db3d-eeb400aaff7a"
      },
      "source": [
        "len(star_df)"
      ],
      "execution_count": null,
      "outputs": [
        {
          "output_type": "execute_result",
          "data": {
            "text/plain": [
              "509"
            ]
          },
          "metadata": {
            "tags": []
          },
          "execution_count": 9
        }
      ]
    },
    {
      "cell_type": "markdown",
      "metadata": {
        "id": "H6cYhIARlkhr"
      },
      "source": [
        "## Αλλάζουμε το date σε datetime και δημιουργούμε 3 νέες στήλες (ημέρα, μήνας, έτος)"
      ]
    },
    {
      "cell_type": "code",
      "metadata": {
        "colab": {
          "base_uri": "https://localhost:8080/"
        },
        "id": "4UckTnybOJ1G",
        "outputId": "c1e0a6d2-0d79-4993-ed4d-889bb1d4a77e"
      },
      "source": [
        "skai_df['date'] = pd.to_datetime(skai_df['date'], format='%d/%m/%Y - %H:%M')\n",
        "skai_df['date']"
      ],
      "execution_count": null,
      "outputs": [
        {
          "output_type": "execute_result",
          "data": {
            "text/plain": [
              "0      2021-04-14 01:09:00\n",
              "1      2021-05-19 16:04:00\n",
              "2      2021-03-05 20:10:00\n",
              "3      2021-02-01 09:34:00\n",
              "4      2020-12-31 09:46:00\n",
              "               ...        \n",
              "1790   2021-01-07 18:38:00\n",
              "1791   2021-02-18 13:14:00\n",
              "1792   2021-03-16 10:03:00\n",
              "1793   2021-03-24 17:53:00\n",
              "1794   2021-03-12 17:42:00\n",
              "Name: date, Length: 1795, dtype: datetime64[ns]"
            ]
          },
          "metadata": {
            "tags": []
          },
          "execution_count": 10
        }
      ]
    },
    {
      "cell_type": "code",
      "metadata": {
        "id": "xujfBlQgZ89z"
      },
      "source": [
        "#Αλλάζουμε το format του έτους στο date για να μπορεί να αναγνωστεί ως %Y και να μετατραπεί σε datetime\n",
        "star_df['date'] = star_df['date'].str.replace(\"20,\", \"2020,\")\n",
        "star_df['date'] = star_df['date'].str.replace(\"21,\", \"2021,\")"
      ],
      "execution_count": null,
      "outputs": []
    },
    {
      "cell_type": "code",
      "metadata": {
        "colab": {
          "base_uri": "https://localhost:8080/"
        },
        "id": "VlZoyfsTe49I",
        "outputId": "33d81eab-a390-469d-b684-c4c11e61bf6f"
      },
      "source": [
        "star_df['date'] = pd.to_datetime(star_df['date'], format='%d.%m.%Y, %H:%M')\n",
        "star_df['date']"
      ],
      "execution_count": null,
      "outputs": [
        {
          "output_type": "execute_result",
          "data": {
            "text/plain": [
              "0     2021-03-01 19:02:00\n",
              "1     2021-02-19 10:53:00\n",
              "2     2021-01-24 15:00:00\n",
              "3     2021-01-04 16:09:00\n",
              "4     2021-03-19 19:38:00\n",
              "              ...        \n",
              "504   2021-01-04 12:00:00\n",
              "505   2021-06-16 10:13:00\n",
              "506   2021-06-04 11:32:00\n",
              "507   2021-05-31 19:51:00\n",
              "508   2021-03-04 13:37:00\n",
              "Name: date, Length: 509, dtype: datetime64[ns]"
            ]
          },
          "metadata": {
            "tags": []
          },
          "execution_count": 12
        }
      ]
    },
    {
      "cell_type": "code",
      "metadata": {
        "id": "_B29rRm7cqwA"
      },
      "source": [
        "skai_df['year'] = pd.DatetimeIndex(skai_df['date']).year\n",
        "skai_df['month'] = pd.DatetimeIndex(skai_df['date']).month\n",
        "skai_df['day'] = pd.DatetimeIndex(skai_df['date']).day"
      ],
      "execution_count": null,
      "outputs": []
    },
    {
      "cell_type": "code",
      "metadata": {
        "id": "Jdy3sB1TXBmM"
      },
      "source": [
        "star_df['year'] = pd.DatetimeIndex(star_df['date']).year\n",
        "star_df['month'] = pd.DatetimeIndex(star_df['date']).month\n",
        "star_df['day'] = pd.DatetimeIndex(star_df['date']).day"
      ],
      "execution_count": null,
      "outputs": []
    },
    {
      "cell_type": "markdown",
      "metadata": {
        "id": "YYBPlZjnmDVL"
      },
      "source": [
        "## Καθαρίζουμε τα άρθρα από περιττά στοιχεία και διαλέγουμε τα άρθρα που δημοσιεύτηκαν το 2021"
      ]
    },
    {
      "cell_type": "code",
      "metadata": {
        "id": "AtEfEdFYg0oG"
      },
      "source": [
        "skai_df['body'] = skai_df['body'].str.replace(r'https?:\\/\\/.*[\\r\\n]*',\" \")"
      ],
      "execution_count": null,
      "outputs": []
    },
    {
      "cell_type": "code",
      "metadata": {
        "id": "vMBZ5Iqvhn1p"
      },
      "source": [
        "star_df['body'] = star_df['body'].str.replace(r'https?:\\/\\/.*[\\r\\n]*',\" \")"
      ],
      "execution_count": null,
      "outputs": []
    },
    {
      "cell_type": "code",
      "metadata": {
        "id": "jy_-k7ZNVBSA"
      },
      "source": [
        "star_df['body'] = star_df['body'].str.replace('googletag',' ').str.replace('ad',' ').str.replace('gpt',' ').str.replace('function',' ').str.replace('div',' ').str.replace('display',' ').str.replace('cmd',' ').str.replace('push',' ').str.replace('1618837763216',' ')"
      ],
      "execution_count": null,
      "outputs": []
    },
    {
      "cell_type": "code",
      "metadata": {
        "id": "XtrstzD7iyKW"
      },
      "source": [
        "star_df['body'] = star_df['body'].str.replace('\\n',\" \")\n",
        "star_df['body'] = star_df['body'].str.replace('\\xa0',\" \")\n",
        "skai_df['body'] = skai_df['body'].str.replace('\\n',\" \")"
      ],
      "execution_count": null,
      "outputs": []
    },
    {
      "cell_type": "code",
      "metadata": {
        "id": "f3k-cWr0hn3g"
      },
      "source": [
        "star_df = star_df[star_df['year'] == 2021]"
      ],
      "execution_count": null,
      "outputs": []
    },
    {
      "cell_type": "code",
      "metadata": {
        "id": "M8JuD8N7hn5_"
      },
      "source": [
        "skai_df = skai_df[skai_df['year'] == 2021]"
      ],
      "execution_count": null,
      "outputs": []
    },
    {
      "cell_type": "code",
      "metadata": {
        "id": "G8wH0anDB3He"
      },
      "source": [
        "skai_df.head()"
      ],
      "execution_count": 60,
      "outputs": []
    },
    {
      "cell_type": "code",
      "metadata": {
        "colab": {
          "base_uri": "https://localhost:8080/"
        },
        "id": "r7pN0xoyBEvp",
        "outputId": "55eb7d66-abcc-4b33-9070-45cb7fd76058"
      },
      "source": [
        "len(skai_df)"
      ],
      "execution_count": null,
      "outputs": [
        {
          "output_type": "execute_result",
          "data": {
            "text/plain": [
              "1659"
            ]
          },
          "metadata": {
            "tags": []
          },
          "execution_count": 22
        }
      ]
    },
    {
      "cell_type": "code",
      "metadata": {
        "id": "2S2KQnTWBE0E"
      },
      "source": [
        "star_df.head()"
      ],
      "execution_count": 61,
      "outputs": []
    },
    {
      "cell_type": "code",
      "metadata": {
        "colab": {
          "base_uri": "https://localhost:8080/"
        },
        "id": "65v_6PH_B5pH",
        "outputId": "5ff722ed-88da-4253-8aaa-37beed7c9772"
      },
      "source": [
        "len(star_df)"
      ],
      "execution_count": null,
      "outputs": [
        {
          "output_type": "execute_result",
          "data": {
            "text/plain": [
              "469"
            ]
          },
          "metadata": {
            "tags": []
          },
          "execution_count": 24
        }
      ]
    },
    {
      "cell_type": "markdown",
      "metadata": {
        "id": "bhCEH625mRs_"
      },
      "source": [
        "# Ορίζουμε την ημερομηνία ως index και δημιουργούμε τα πρώτα γραφήματα"
      ]
    },
    {
      "cell_type": "code",
      "metadata": {
        "id": "iDGJ1xEre5lA"
      },
      "source": [
        "skai_df.set_index('date' , inplace=True)\n",
        "star_df.set_index('date' , inplace=True)"
      ],
      "execution_count": null,
      "outputs": []
    },
    {
      "cell_type": "code",
      "metadata": {
        "id": "V19CrkWcc1W_"
      },
      "source": [
        "#Κάνουμε sort για να φαίνονται τα άρθρα ανάλογα με την ημερομηνία δημοσίευσης \n",
        "skai_df = skai_df.sort_index()\n",
        "star_df = star_df.sort_index()"
      ],
      "execution_count": null,
      "outputs": []
    },
    {
      "cell_type": "code",
      "metadata": {
        "colab": {
          "base_uri": "https://localhost:8080/"
        },
        "id": "a6tA8DqI-9_I",
        "outputId": "be33cd54-2871-4ef0-f8a3-6fd56bb0bdfd"
      },
      "source": [
        "#Ο αριθμός των δημοσιευμένων άρθρων για τα εμβόλια, ανά μήνα στο Skai\n",
        "skai_df['2021-01': ].value_counts('month')"
      ],
      "execution_count": null,
      "outputs": [
        {
          "output_type": "execute_result",
          "data": {
            "text/plain": [
              "month\n",
              "1    383\n",
              "2    312\n",
              "3    306\n",
              "5    250\n",
              "4    240\n",
              "6    168\n",
              "dtype: int64"
            ]
          },
          "metadata": {
            "tags": []
          },
          "execution_count": 27
        }
      ]
    },
    {
      "cell_type": "code",
      "metadata": {
        "colab": {
          "base_uri": "https://localhost:8080/"
        },
        "id": "4MC1u_Yx--vL",
        "outputId": "780f3445-047d-400f-bc95-5eb3e15bb4c9"
      },
      "source": [
        "#Ο αριθμός των δημοσιευμένων άρθρων για τα εμβόλια, ανά μήνα στο Star\n",
        "star_df['2021-01': ].value_counts('month')"
      ],
      "execution_count": null,
      "outputs": [
        {
          "output_type": "execute_result",
          "data": {
            "text/plain": [
              "month\n",
              "5    109\n",
              "4     97\n",
              "1     82\n",
              "3     66\n",
              "6     64\n",
              "2     51\n",
              "dtype: int64"
            ]
          },
          "metadata": {
            "tags": []
          },
          "execution_count": 28
        }
      ]
    },
    {
      "cell_type": "code",
      "metadata": {
        "id": "tbtFBe2jsFu8"
      },
      "source": [
        "#Γράφημα με τον αριθμό των δημοσιευμένων άρθρων για τα εμβόλια, ανά μήνα στο Skai\n",
        "skai_df['2021-01': ].value_counts('month').plot(kind= 'bar', figsize= (10,6))"
      ],
      "execution_count": 50,
      "outputs": []
    },
    {
      "cell_type": "code",
      "metadata": {
        "id": "hccj9Rim-wNV"
      },
      "source": [
        "#Γράφημα με τον αριθμό των δημοσιευμένων άρθρων για τα εμβόλια, ανά μήνα στο Star\n",
        "star_df['2021-01': ].value_counts('month').plot(kind= 'bar', figsize= (10,6), color= 'brown')"
      ],
      "execution_count": 51,
      "outputs": []
    },
    {
      "cell_type": "code",
      "metadata": {
        "colab": {
          "base_uri": "https://localhost:8080/"
        },
        "id": "WViua8-yWWL3",
        "outputId": "7a681eba-ea41-4157-d14a-abb33b36df10"
      },
      "source": [
        "#Ο μέσος όρος των δημοσιευμένων άρθρων για τα εμβόλια, ανά μήνα στο Skai\n",
        "skai_df['month'].value_counts().sort_values(ascending= False).mean()"
      ],
      "execution_count": null,
      "outputs": [
        {
          "output_type": "execute_result",
          "data": {
            "text/plain": [
              "276.5"
            ]
          },
          "metadata": {
            "tags": []
          },
          "execution_count": 31
        }
      ]
    },
    {
      "cell_type": "code",
      "metadata": {
        "id": "UrBhuUKggSPq",
        "colab": {
          "base_uri": "https://localhost:8080/"
        },
        "outputId": "8e3ca441-d42e-49a9-bd18-f9e7c2db9c53"
      },
      "source": [
        "#Ο μέσος όρος των δημοσιευμένων άρθρων για τα εμβόλια, ανά μήνα στο Star\n",
        "star_df['month'].value_counts().sort_values(ascending= False).mean()"
      ],
      "execution_count": null,
      "outputs": [
        {
          "output_type": "execute_result",
          "data": {
            "text/plain": [
              "78.16666666666667"
            ]
          },
          "metadata": {
            "tags": []
          },
          "execution_count": 32
        }
      ]
    },
    {
      "cell_type": "markdown",
      "metadata": {
        "id": "zdrHCrzhDbU_"
      },
      "source": [
        "## Φτιάχνουμε το WordCloud από τα κείμενα των τίτλων και των περιγραφών"
      ]
    },
    {
      "cell_type": "code",
      "metadata": {
        "id": "pyUjOILbfESe"
      },
      "source": [
        "#Δημιουργούμε νέα στήλη με το κείμενο του τίτλου και της περιγραφής, των άρθρων\n",
        "skai_df[\"text\"] = skai_df[\"title\"] + skai_df[\"summary\"]"
      ],
      "execution_count": null,
      "outputs": []
    },
    {
      "cell_type": "code",
      "metadata": {
        "id": "2GqvUMeIfHTk"
      },
      "source": [
        "#Δημιουργούμε νέα στήλη με το κείμενο του τίτλου και της περιγραφής, των άρθρων\n",
        "star_df[\"text\"] = star_df[\"title\"] + star_df[\"summary\"]"
      ],
      "execution_count": null,
      "outputs": []
    },
    {
      "cell_type": "code",
      "metadata": {
        "id": "o-igLfLbm05M"
      },
      "source": [
        "from wordcloud import WordCloud, STOPWORDS"
      ],
      "execution_count": null,
      "outputs": []
    },
    {
      "cell_type": "code",
      "metadata": {
        "id": "dLWhysXpDVOm"
      },
      "source": [
        "#Καθαρίζουμε το κείμενο από περιττούς χαρακτήρες\n",
        "skaitext = skai_df['text'].replace(\"amp\", ' ').str.replace('AMP',' ').str.replace('Amp',' ').str.replace('links',' ').str.replace(\"RT\", \" \").str.replace('@',' ').str.replace('http',' ').str.replace('https',' ').str.replace('rt',' ').str.cat(sep = ' ')"
      ],
      "execution_count": null,
      "outputs": []
    },
    {
      "cell_type": "code",
      "metadata": {
        "id": "rzdAwfL1DVQ-"
      },
      "source": [
        "#Καθαρίζουμε το κείμενο από περιττούς χαρακτήρες\n",
        "startext = star_df['text'].replace(\"amp\", ' ').str.replace('AMP',' ').str.replace('Amp',' ').str.replace('links',' ').str.replace(\"RT\", \" \").str.replace('@',' ').str.replace('http',' ').str.replace('https',' ').str.replace('rt',' ').str.cat(sep = ' ')"
      ],
      "execution_count": null,
      "outputs": []
    },
    {
      "cell_type": "code",
      "metadata": {
        "id": "b0KEbnkwm07g"
      },
      "source": [
        "skaitext"
      ],
      "execution_count": 62,
      "outputs": []
    },
    {
      "cell_type": "code",
      "metadata": {
        "id": "8izvpRiHEtkh"
      },
      "source": [
        "startext"
      ],
      "execution_count": 63,
      "outputs": []
    },
    {
      "cell_type": "code",
      "metadata": {
        "id": "ZslABAmXEtm5"
      },
      "source": [
        "#Εισάγουμε την απαραίτητη βιβλιοθήκη και το ελληνικό λεξικό\n",
        "import spacy"
      ],
      "execution_count": null,
      "outputs": []
    },
    {
      "cell_type": "code",
      "metadata": {
        "id": "-qckHo8MEtpd"
      },
      "source": [
        "#!python -m spacy download el_core_news_sm"
      ],
      "execution_count": null,
      "outputs": []
    },
    {
      "cell_type": "code",
      "metadata": {
        "id": "oG7qWj-ZF7SD"
      },
      "source": [
        "nlp = spacy.load('el_core_news_sm')"
      ],
      "execution_count": null,
      "outputs": []
    },
    {
      "cell_type": "code",
      "metadata": {
        "id": "9ggXnevAF7Uj"
      },
      "source": [
        "list(nlp.Defaults.stop_words)[0:20]"
      ],
      "execution_count": 64,
      "outputs": []
    },
    {
      "cell_type": "code",
      "metadata": {
        "id": "AxBxuhQtGwHh"
      },
      "source": [
        "full_doc1 = nlp(skaitext)"
      ],
      "execution_count": null,
      "outputs": []
    },
    {
      "cell_type": "code",
      "metadata": {
        "id": "L4zcHmLIIwzo"
      },
      "source": [
        "full_doc2 = nlp(startext)"
      ],
      "execution_count": null,
      "outputs": []
    },
    {
      "cell_type": "code",
      "metadata": {
        "id": "K6FAIHQlIw1o"
      },
      "source": [
        "clear_text1 = ' '.join(token.lemma_ for token in full_doc1)"
      ],
      "execution_count": null,
      "outputs": []
    },
    {
      "cell_type": "code",
      "metadata": {
        "id": "_PwWBk6hHtH8"
      },
      "source": [
        "clear_text2 = ' '.join(token.lemma_ for token in full_doc2)"
      ],
      "execution_count": null,
      "outputs": []
    },
    {
      "cell_type": "code",
      "metadata": {
        "id": "Ay2RytkUHtKt"
      },
      "source": [
        "#Φτιάχνουμε το Wordcloud του Skai\n",
        "wordcloud = WordCloud(\n",
        "    stopwords = nlp.Defaults.stop_words,\n",
        "    width = 2000,\n",
        "    height = 1000,\n",
        "    background_color = 'black'\n",
        " ).generate(clear_text1)\n",
        "fig = plt.figure(\n",
        "    figsize = (40, 30),\n",
        "    facecolor = 'k',\n",
        "    edgecolor = 'k')\n",
        "plt.imshow(wordcloud, interpolation = 'bilinear')\n",
        "plt.axis('off')\n",
        "plt.tight_layout(pad=0)\n",
        "plt.show()"
      ],
      "execution_count": null,
      "outputs": []
    },
    {
      "cell_type": "code",
      "metadata": {
        "id": "R2vsSOoXHtM6"
      },
      "source": [
        "#Φτιάχνουμε το Wordcloud του Star\n",
        "wordcloud = WordCloud(\n",
        "    stopwords = nlp.Defaults.stop_words,\n",
        "    width = 2000,\n",
        "    height = 1000,\n",
        "    background_color = 'black'\n",
        " ).generate(clear_text2)\n",
        "fig = plt.figure(\n",
        "    figsize = (40, 30),\n",
        "    facecolor = 'k',\n",
        "    edgecolor = 'k')\n",
        "plt.imshow(wordcloud, interpolation = 'bilinear')\n",
        "plt.axis('off')\n",
        "plt.tight_layout(pad=0)\n",
        "plt.show()"
      ],
      "execution_count": null,
      "outputs": []
    },
    {
      "cell_type": "markdown",
      "metadata": {
        "id": "ZYPA5LS3z4AO"
      },
      "source": [
        "## Δημιουργούμε διαγράμματα με τις πιο συχνές λέξεις στο βασικό κείμενο των άρθρων"
      ]
    },
    {
      "cell_type": "code",
      "metadata": {
        "id": "019vMfW4GwJ_"
      },
      "source": [
        "from sklearn.feature_extraction.text import CountVectorizer\n",
        "cv = CountVectorizer()"
      ],
      "execution_count": null,
      "outputs": []
    },
    {
      "cell_type": "code",
      "metadata": {
        "colab": {
          "base_uri": "https://localhost:8080/",
          "height": 204
        },
        "id": "_gq3bXKj3wOG",
        "outputId": "cac8db74-425a-443c-e39f-de829f1413b0"
      },
      "source": [
        "cv = CountVectorizer( stop_words= nlp.Defaults.stop_words, max_features=20)\n",
        "count_vector1 = cv.fit_transform(skai_df['body'])\n",
        "results1 = pd.DataFrame(count_vector1.toarray(), columns=cv.get_feature_names()) \n",
        "results1.head()\n"
      ],
      "execution_count": null,
      "outputs": [
        {
          "output_type": "execute_result",
          "data": {
            "text/html": [
              "<div>\n",
              "<style scoped>\n",
              "    .dataframe tbody tr th:only-of-type {\n",
              "        vertical-align: middle;\n",
              "    }\n",
              "\n",
              "    .dataframe tbody tr th {\n",
              "        vertical-align: top;\n",
              "    }\n",
              "\n",
              "    .dataframe thead th {\n",
              "        text-align: right;\n",
              "    }\n",
              "</style>\n",
              "<table border=\"1\" class=\"dataframe\">\n",
              "  <thead>\n",
              "    <tr style=\"text-align: right;\">\n",
              "      <th></th>\n",
              "      <th>000</th>\n",
              "      <th>19</th>\n",
              "      <th>astrazeneca</th>\n",
              "      <th>covid</th>\n",
              "      <th>pfizer</th>\n",
              "      <th>δήλωσε</th>\n",
              "      <th>δόσεις</th>\n",
              "      <th>δόση</th>\n",
              "      <th>δύο</th>\n",
              "      <th>εμβολίου</th>\n",
              "      <th>εμβολίων</th>\n",
              "      <th>εμβολιασμού</th>\n",
              "      <th>εμβόλια</th>\n",
              "      <th>εμβόλιο</th>\n",
              "      <th>ετών</th>\n",
              "      <th>πηγή</th>\n",
              "      <th>σήμερα</th>\n",
              "      <th>σύμφωνα</th>\n",
              "      <th>υγείας</th>\n",
              "      <th>χώρες</th>\n",
              "    </tr>\n",
              "  </thead>\n",
              "  <tbody>\n",
              "    <tr>\n",
              "      <th>0</th>\n",
              "      <td>1</td>\n",
              "      <td>1</td>\n",
              "      <td>0</td>\n",
              "      <td>1</td>\n",
              "      <td>0</td>\n",
              "      <td>0</td>\n",
              "      <td>0</td>\n",
              "      <td>0</td>\n",
              "      <td>1</td>\n",
              "      <td>0</td>\n",
              "      <td>0</td>\n",
              "      <td>0</td>\n",
              "      <td>0</td>\n",
              "      <td>1</td>\n",
              "      <td>0</td>\n",
              "      <td>1</td>\n",
              "      <td>0</td>\n",
              "      <td>0</td>\n",
              "      <td>1</td>\n",
              "      <td>0</td>\n",
              "    </tr>\n",
              "    <tr>\n",
              "      <th>1</th>\n",
              "      <td>2</td>\n",
              "      <td>0</td>\n",
              "      <td>1</td>\n",
              "      <td>0</td>\n",
              "      <td>0</td>\n",
              "      <td>0</td>\n",
              "      <td>2</td>\n",
              "      <td>0</td>\n",
              "      <td>0</td>\n",
              "      <td>2</td>\n",
              "      <td>0</td>\n",
              "      <td>1</td>\n",
              "      <td>0</td>\n",
              "      <td>1</td>\n",
              "      <td>0</td>\n",
              "      <td>1</td>\n",
              "      <td>0</td>\n",
              "      <td>0</td>\n",
              "      <td>0</td>\n",
              "      <td>0</td>\n",
              "    </tr>\n",
              "    <tr>\n",
              "      <th>2</th>\n",
              "      <td>0</td>\n",
              "      <td>2</td>\n",
              "      <td>1</td>\n",
              "      <td>2</td>\n",
              "      <td>1</td>\n",
              "      <td>0</td>\n",
              "      <td>0</td>\n",
              "      <td>0</td>\n",
              "      <td>1</td>\n",
              "      <td>0</td>\n",
              "      <td>0</td>\n",
              "      <td>0</td>\n",
              "      <td>2</td>\n",
              "      <td>1</td>\n",
              "      <td>0</td>\n",
              "      <td>1</td>\n",
              "      <td>1</td>\n",
              "      <td>1</td>\n",
              "      <td>0</td>\n",
              "      <td>0</td>\n",
              "    </tr>\n",
              "    <tr>\n",
              "      <th>3</th>\n",
              "      <td>5</td>\n",
              "      <td>0</td>\n",
              "      <td>0</td>\n",
              "      <td>1</td>\n",
              "      <td>0</td>\n",
              "      <td>0</td>\n",
              "      <td>0</td>\n",
              "      <td>0</td>\n",
              "      <td>1</td>\n",
              "      <td>1</td>\n",
              "      <td>0</td>\n",
              "      <td>0</td>\n",
              "      <td>1</td>\n",
              "      <td>9</td>\n",
              "      <td>1</td>\n",
              "      <td>1</td>\n",
              "      <td>2</td>\n",
              "      <td>0</td>\n",
              "      <td>3</td>\n",
              "      <td>2</td>\n",
              "    </tr>\n",
              "    <tr>\n",
              "      <th>4</th>\n",
              "      <td>0</td>\n",
              "      <td>2</td>\n",
              "      <td>0</td>\n",
              "      <td>2</td>\n",
              "      <td>2</td>\n",
              "      <td>1</td>\n",
              "      <td>1</td>\n",
              "      <td>0</td>\n",
              "      <td>0</td>\n",
              "      <td>1</td>\n",
              "      <td>1</td>\n",
              "      <td>0</td>\n",
              "      <td>1</td>\n",
              "      <td>5</td>\n",
              "      <td>0</td>\n",
              "      <td>1</td>\n",
              "      <td>0</td>\n",
              "      <td>0</td>\n",
              "      <td>2</td>\n",
              "      <td>3</td>\n",
              "    </tr>\n",
              "  </tbody>\n",
              "</table>\n",
              "</div>"
            ],
            "text/plain": [
              "   000  19  astrazeneca  covid  pfizer  ...  πηγή  σήμερα  σύμφωνα  υγείας  χώρες\n",
              "0    1   1            0      1       0  ...     1       0        0       1      0\n",
              "1    2   0            1      0       0  ...     1       0        0       0      0\n",
              "2    0   2            1      2       1  ...     1       1        1       0      0\n",
              "3    5   0            0      1       0  ...     1       2        0       3      2\n",
              "4    0   2            0      2       2  ...     1       0        0       2      3\n",
              "\n",
              "[5 rows x 20 columns]"
            ]
          },
          "metadata": {
            "tags": []
          },
          "execution_count": 42
        }
      ]
    },
    {
      "cell_type": "code",
      "metadata": {
        "colab": {
          "base_uri": "https://localhost:8080/",
          "height": 204
        },
        "id": "xuhJlm6Y3-0Y",
        "outputId": "6a0238a0-3b66-42b5-df78-ad7bf94ede5a"
      },
      "source": [
        "cv = CountVectorizer( stop_words= nlp.Defaults.stop_words, max_features=20)\n",
        "count_vector2 = cv.fit_transform(star_df['body'])\n",
        "results2 = pd.DataFrame(count_vector2.toarray(), columns=cv.get_feature_names()) \n",
        "results2.head()\n"
      ],
      "execution_count": null,
      "outputs": [
        {
          "output_type": "execute_result",
          "data": {
            "text/html": [
              "<div>\n",
              "<style scoped>\n",
              "    .dataframe tbody tr th:only-of-type {\n",
              "        vertical-align: middle;\n",
              "    }\n",
              "\n",
              "    .dataframe tbody tr th {\n",
              "        vertical-align: top;\n",
              "    }\n",
              "\n",
              "    .dataframe thead th {\n",
              "        text-align: right;\n",
              "    }\n",
              "</style>\n",
              "<table border=\"1\" class=\"dataframe\">\n",
              "  <thead>\n",
              "    <tr style=\"text-align: right;\">\n",
              "      <th></th>\n",
              "      <th>19</th>\n",
              "      <th>astrazeneca</th>\n",
              "      <th>covid</th>\n",
              "      <th>johnson</th>\n",
              "      <th>pfizer</th>\n",
              "      <th>διαβάστε</th>\n",
              "      <th>δόσεις</th>\n",
              "      <th>δόση</th>\n",
              "      <th>ειδήσεις</th>\n",
              "      <th>ελλάδα</th>\n",
              "      <th>εμβολίου</th>\n",
              "      <th>εμβολίων</th>\n",
              "      <th>εμβολιασμό</th>\n",
              "      <th>εμβόλια</th>\n",
              "      <th>εμβόλιο</th>\n",
              "      <th>ετών</th>\n",
              "      <th>κορωνοϊού</th>\n",
              "      <th>κόσμο</th>\n",
              "      <th>ραντεβού</th>\n",
              "      <th>υγείας</th>\n",
              "    </tr>\n",
              "  </thead>\n",
              "  <tbody>\n",
              "    <tr>\n",
              "      <th>0</th>\n",
              "      <td>0</td>\n",
              "      <td>2</td>\n",
              "      <td>0</td>\n",
              "      <td>0</td>\n",
              "      <td>4</td>\n",
              "      <td>1</td>\n",
              "      <td>3</td>\n",
              "      <td>0</td>\n",
              "      <td>1</td>\n",
              "      <td>1</td>\n",
              "      <td>6</td>\n",
              "      <td>3</td>\n",
              "      <td>0</td>\n",
              "      <td>4</td>\n",
              "      <td>8</td>\n",
              "      <td>0</td>\n",
              "      <td>3</td>\n",
              "      <td>1</td>\n",
              "      <td>0</td>\n",
              "      <td>1</td>\n",
              "    </tr>\n",
              "    <tr>\n",
              "      <th>1</th>\n",
              "      <td>0</td>\n",
              "      <td>0</td>\n",
              "      <td>0</td>\n",
              "      <td>0</td>\n",
              "      <td>3</td>\n",
              "      <td>2</td>\n",
              "      <td>0</td>\n",
              "      <td>0</td>\n",
              "      <td>2</td>\n",
              "      <td>1</td>\n",
              "      <td>1</td>\n",
              "      <td>1</td>\n",
              "      <td>0</td>\n",
              "      <td>0</td>\n",
              "      <td>2</td>\n",
              "      <td>0</td>\n",
              "      <td>2</td>\n",
              "      <td>1</td>\n",
              "      <td>0</td>\n",
              "      <td>1</td>\n",
              "    </tr>\n",
              "    <tr>\n",
              "      <th>2</th>\n",
              "      <td>0</td>\n",
              "      <td>0</td>\n",
              "      <td>0</td>\n",
              "      <td>0</td>\n",
              "      <td>0</td>\n",
              "      <td>1</td>\n",
              "      <td>0</td>\n",
              "      <td>1</td>\n",
              "      <td>1</td>\n",
              "      <td>2</td>\n",
              "      <td>1</td>\n",
              "      <td>0</td>\n",
              "      <td>1</td>\n",
              "      <td>0</td>\n",
              "      <td>0</td>\n",
              "      <td>0</td>\n",
              "      <td>2</td>\n",
              "      <td>1</td>\n",
              "      <td>0</td>\n",
              "      <td>2</td>\n",
              "    </tr>\n",
              "    <tr>\n",
              "      <th>3</th>\n",
              "      <td>0</td>\n",
              "      <td>0</td>\n",
              "      <td>1</td>\n",
              "      <td>0</td>\n",
              "      <td>1</td>\n",
              "      <td>1</td>\n",
              "      <td>0</td>\n",
              "      <td>0</td>\n",
              "      <td>1</td>\n",
              "      <td>1</td>\n",
              "      <td>0</td>\n",
              "      <td>1</td>\n",
              "      <td>1</td>\n",
              "      <td>0</td>\n",
              "      <td>4</td>\n",
              "      <td>0</td>\n",
              "      <td>1</td>\n",
              "      <td>2</td>\n",
              "      <td>0</td>\n",
              "      <td>1</td>\n",
              "    </tr>\n",
              "    <tr>\n",
              "      <th>4</th>\n",
              "      <td>1</td>\n",
              "      <td>2</td>\n",
              "      <td>1</td>\n",
              "      <td>0</td>\n",
              "      <td>0</td>\n",
              "      <td>1</td>\n",
              "      <td>0</td>\n",
              "      <td>0</td>\n",
              "      <td>1</td>\n",
              "      <td>1</td>\n",
              "      <td>1</td>\n",
              "      <td>0</td>\n",
              "      <td>0</td>\n",
              "      <td>0</td>\n",
              "      <td>8</td>\n",
              "      <td>0</td>\n",
              "      <td>1</td>\n",
              "      <td>1</td>\n",
              "      <td>0</td>\n",
              "      <td>1</td>\n",
              "    </tr>\n",
              "  </tbody>\n",
              "</table>\n",
              "</div>"
            ],
            "text/plain": [
              "   19  astrazeneca  covid  johnson  ...  κορωνοϊού  κόσμο  ραντεβού  υγείας\n",
              "0   0            2      0        0  ...          3      1         0       1\n",
              "1   0            0      0        0  ...          2      1         0       1\n",
              "2   0            0      0        0  ...          2      1         0       2\n",
              "3   0            0      1        0  ...          1      2         0       1\n",
              "4   1            2      1        0  ...          1      1         0       1\n",
              "\n",
              "[5 rows x 20 columns]"
            ]
          },
          "metadata": {
            "tags": []
          },
          "execution_count": 43
        }
      ]
    },
    {
      "cell_type": "code",
      "metadata": {
        "colab": {
          "base_uri": "https://localhost:8080/"
        },
        "id": "sjKz-h1-3-2-",
        "outputId": "ae2ad663-e5a2-4079-f946-2d1f61b3f347"
      },
      "source": [
        "results1.sum(axis =0).sort_values(ascending = False)"
      ],
      "execution_count": null,
      "outputs": [
        {
          "output_type": "execute_result",
          "data": {
            "text/plain": [
              "εμβόλιο        3458\n",
              "εμβολίου       2345\n",
              "covid          1996\n",
              "19             1871\n",
              "εμβόλια        1820\n",
              "πηγή           1627\n",
              "υγείας         1561\n",
              "astrazeneca    1493\n",
              "εμβολίων       1469\n",
              "δόσεις         1291\n",
              "σήμερα         1189\n",
              "δόση           1149\n",
              "ετών           1091\n",
              "pfizer         1083\n",
              "δύο            1081\n",
              "000             977\n",
              "χώρες           972\n",
              "δήλωσε          966\n",
              "σύμφωνα         961\n",
              "εμβολιασμού     959\n",
              "dtype: int64"
            ]
          },
          "metadata": {
            "tags": []
          },
          "execution_count": 44
        }
      ]
    },
    {
      "cell_type": "code",
      "metadata": {
        "id": "nlYT8m84rOun"
      },
      "source": [
        "#Φτιάχνουμε γράφημα με τις 15 συχνότερες λέξεις στο κείμενο του Skai\n",
        "results1.sum(axis =0).sort_values(ascending = False).head(15).plot(kind= 'bar', figsize=(10,5))"
      ],
      "execution_count": 52,
      "outputs": []
    },
    {
      "cell_type": "code",
      "metadata": {
        "colab": {
          "base_uri": "https://localhost:8080/"
        },
        "id": "u98ND7T_3wQr",
        "outputId": "20327994-3bbb-4465-9813-327280ce3244"
      },
      "source": [
        "results2.sum(axis =0).sort_values(ascending = False)"
      ],
      "execution_count": null,
      "outputs": [
        {
          "output_type": "execute_result",
          "data": {
            "text/plain": [
              "εμβόλιο        1764\n",
              "astrazeneca     974\n",
              "εμβολίου        796\n",
              "ελλάδα          622\n",
              "ετών            600\n",
              "διαβάστε        553\n",
              "κόσμο           539\n",
              "δόση            520\n",
              "εμβόλια         493\n",
              "ειδήσεις        493\n",
              "pfizer          471\n",
              "johnson         463\n",
              "εμβολιασμό      418\n",
              "ραντεβού        402\n",
              "covid           372\n",
              "19              368\n",
              "κορωνοϊού       368\n",
              "δόσεις          341\n",
              "υγείας          339\n",
              "εμβολίων        329\n",
              "dtype: int64"
            ]
          },
          "metadata": {
            "tags": []
          },
          "execution_count": 45
        }
      ]
    },
    {
      "cell_type": "code",
      "metadata": {
        "id": "c93RaxnMrd4A"
      },
      "source": [
        "#Φτιάχνουμε γράφημα με τις 15 συχνότερες λέξεις στο κείμενο του Star\n",
        "results2.sum(axis =0).sort_values(ascending = False).head(15).plot(kind= 'bar', figsize=(10,5), color= 'brown')"
      ],
      "execution_count": 53,
      "outputs": []
    },
    {
      "cell_type": "markdown",
      "metadata": {
        "id": "P1T6CRYsrxHF"
      },
      "source": [
        "## Δημιουργούμε διαγράμματα με τα πιο συχνά διγράμματα στο βασικό κείμενο των άρθρων"
      ]
    },
    {
      "cell_type": "code",
      "metadata": {
        "colab": {
          "base_uri": "https://localhost:8080/",
          "height": 221
        },
        "id": "pF3wfywr3wSg",
        "outputId": "5e1cf1a6-5c8c-4968-b129-ca39e52f0f9d"
      },
      "source": [
        "cv = CountVectorizer( stop_words= nlp.Defaults.stop_words, max_features=20, ngram_range=(2, 2) )\n",
        "count_vector1 = cv.fit_transform(skai_df['body'])\n",
        "results1 = pd.DataFrame(count_vector1.toarray(), columns=cv.get_feature_names()) \n",
        "results1.head()"
      ],
      "execution_count": null,
      "outputs": [
        {
          "output_type": "execute_result",
          "data": {
            "text/html": [
              "<div>\n",
              "<style scoped>\n",
              "    .dataframe tbody tr th:only-of-type {\n",
              "        vertical-align: middle;\n",
              "    }\n",
              "\n",
              "    .dataframe tbody tr th {\n",
              "        vertical-align: top;\n",
              "    }\n",
              "\n",
              "    .dataframe thead th {\n",
              "        text-align: right;\n",
              "    }\n",
              "</style>\n",
              "<table border=\"1\" class=\"dataframe\">\n",
              "  <thead>\n",
              "    <tr style=\"text-align: right;\">\n",
              "      <th></th>\n",
              "      <th>covid 19</th>\n",
              "      <th>html5 video</th>\n",
              "      <th>johnson johnson</th>\n",
              "      <th>pfizer biontech</th>\n",
              "      <th>sars cov</th>\n",
              "      <th>skai gr</th>\n",
              "      <th>view this</th>\n",
              "      <th>απε μπε</th>\n",
              "      <th>δεύτερη δόση</th>\n",
              "      <th>δόσεις εμβολίου</th>\n",
              "      <th>δόση εμβολίου</th>\n",
              "      <th>εκατομμύρια δόσεις</th>\n",
              "      <th>εμβολίου astrazeneca</th>\n",
              "      <th>εμβόλιο astrazeneca</th>\n",
              "      <th>εμβόλιο pfizer</th>\n",
              "      <th>ηνωμένο βασίλειο</th>\n",
              "      <th>κυριάκος μητσοτάκης</th>\n",
              "      <th>πηγή skai</th>\n",
              "      <th>πηγή απε</th>\n",
              "      <th>υπουργός υγείας</th>\n",
              "    </tr>\n",
              "  </thead>\n",
              "  <tbody>\n",
              "    <tr>\n",
              "      <th>0</th>\n",
              "      <td>1</td>\n",
              "      <td>0</td>\n",
              "      <td>0</td>\n",
              "      <td>0</td>\n",
              "      <td>0</td>\n",
              "      <td>0</td>\n",
              "      <td>0</td>\n",
              "      <td>1</td>\n",
              "      <td>0</td>\n",
              "      <td>0</td>\n",
              "      <td>0</td>\n",
              "      <td>0</td>\n",
              "      <td>0</td>\n",
              "      <td>0</td>\n",
              "      <td>0</td>\n",
              "      <td>0</td>\n",
              "      <td>0</td>\n",
              "      <td>0</td>\n",
              "      <td>1</td>\n",
              "      <td>0</td>\n",
              "    </tr>\n",
              "    <tr>\n",
              "      <th>1</th>\n",
              "      <td>0</td>\n",
              "      <td>0</td>\n",
              "      <td>0</td>\n",
              "      <td>0</td>\n",
              "      <td>0</td>\n",
              "      <td>0</td>\n",
              "      <td>0</td>\n",
              "      <td>0</td>\n",
              "      <td>0</td>\n",
              "      <td>2</td>\n",
              "      <td>0</td>\n",
              "      <td>0</td>\n",
              "      <td>0</td>\n",
              "      <td>1</td>\n",
              "      <td>0</td>\n",
              "      <td>0</td>\n",
              "      <td>0</td>\n",
              "      <td>0</td>\n",
              "      <td>0</td>\n",
              "      <td>0</td>\n",
              "    </tr>\n",
              "    <tr>\n",
              "      <th>2</th>\n",
              "      <td>2</td>\n",
              "      <td>0</td>\n",
              "      <td>0</td>\n",
              "      <td>1</td>\n",
              "      <td>0</td>\n",
              "      <td>0</td>\n",
              "      <td>0</td>\n",
              "      <td>1</td>\n",
              "      <td>0</td>\n",
              "      <td>0</td>\n",
              "      <td>0</td>\n",
              "      <td>0</td>\n",
              "      <td>0</td>\n",
              "      <td>0</td>\n",
              "      <td>0</td>\n",
              "      <td>2</td>\n",
              "      <td>0</td>\n",
              "      <td>0</td>\n",
              "      <td>1</td>\n",
              "      <td>0</td>\n",
              "    </tr>\n",
              "    <tr>\n",
              "      <th>3</th>\n",
              "      <td>0</td>\n",
              "      <td>0</td>\n",
              "      <td>0</td>\n",
              "      <td>0</td>\n",
              "      <td>0</td>\n",
              "      <td>0</td>\n",
              "      <td>0</td>\n",
              "      <td>1</td>\n",
              "      <td>0</td>\n",
              "      <td>0</td>\n",
              "      <td>0</td>\n",
              "      <td>0</td>\n",
              "      <td>0</td>\n",
              "      <td>0</td>\n",
              "      <td>0</td>\n",
              "      <td>0</td>\n",
              "      <td>0</td>\n",
              "      <td>0</td>\n",
              "      <td>1</td>\n",
              "      <td>0</td>\n",
              "    </tr>\n",
              "    <tr>\n",
              "      <th>4</th>\n",
              "      <td>2</td>\n",
              "      <td>0</td>\n",
              "      <td>0</td>\n",
              "      <td>2</td>\n",
              "      <td>0</td>\n",
              "      <td>0</td>\n",
              "      <td>0</td>\n",
              "      <td>1</td>\n",
              "      <td>0</td>\n",
              "      <td>1</td>\n",
              "      <td>0</td>\n",
              "      <td>0</td>\n",
              "      <td>0</td>\n",
              "      <td>0</td>\n",
              "      <td>1</td>\n",
              "      <td>1</td>\n",
              "      <td>0</td>\n",
              "      <td>0</td>\n",
              "      <td>1</td>\n",
              "      <td>0</td>\n",
              "    </tr>\n",
              "  </tbody>\n",
              "</table>\n",
              "</div>"
            ],
            "text/plain": [
              "   covid 19  html5 video  johnson johnson  ...  πηγή skai  πηγή απε  υπουργός υγείας\n",
              "0         1            0                0  ...          0         1                0\n",
              "1         0            0                0  ...          0         0                0\n",
              "2         2            0                0  ...          0         1                0\n",
              "3         0            0                0  ...          0         1                0\n",
              "4         2            0                0  ...          0         1                0\n",
              "\n",
              "[5 rows x 20 columns]"
            ]
          },
          "metadata": {
            "tags": []
          },
          "execution_count": 52
        }
      ]
    },
    {
      "cell_type": "code",
      "metadata": {
        "colab": {
          "base_uri": "https://localhost:8080/",
          "height": 221
        },
        "id": "3jvfOEz36eUs",
        "outputId": "d77355a6-d992-4744-ce16-779319f9db94"
      },
      "source": [
        "cv = CountVectorizer( stop_words= nlp.Defaults.stop_words, max_features=20, ngram_range=(2, 2) ) \n",
        "count_vector2 = cv.fit_transform(star_df['body'])\n",
        "results2 = pd.DataFrame(count_vector2.toarray(), columns=cv.get_feature_names()) \n",
        "results2.head()"
      ],
      "execution_count": null,
      "outputs": [
        {
          "output_type": "execute_result",
          "data": {
            "text/html": [
              "<div>\n",
              "<style scoped>\n",
              "    .dataframe tbody tr th:only-of-type {\n",
              "        vertical-align: middle;\n",
              "    }\n",
              "\n",
              "    .dataframe tbody tr th {\n",
              "        vertical-align: top;\n",
              "    }\n",
              "\n",
              "    .dataframe thead th {\n",
              "        text-align: right;\n",
              "    }\n",
              "</style>\n",
              "<table border=\"1\" class=\"dataframe\">\n",
              "  <thead>\n",
              "    <tr style=\"text-align: right;\">\n",
              "      <th></th>\n",
              "      <th>60 ετών</th>\n",
              "      <th>covid 19</th>\n",
              "      <th>gov gr</th>\n",
              "      <th>johnson johnson</th>\n",
              "      <th>pfizer biontech</th>\n",
              "      <th>δελτίο ειδήσεων</th>\n",
              "      <th>δεύτερη δόση</th>\n",
              "      <th>διαβάστε lifestyle</th>\n",
              "      <th>διαβάστε ειδήσεις</th>\n",
              "      <th>δόσεις εμβολίου</th>\n",
              "      <th>δόση εμβολίου</th>\n",
              "      <th>ειδήσεις ελλάδα</th>\n",
              "      <th>ειδήσεων star</th>\n",
              "      <th>ελλάδα κόσμο</th>\n",
              "      <th>εμβολίου astrazeneca</th>\n",
              "      <th>εμβόλιο astrazeneca</th>\n",
              "      <th>εμβόλιο johnson</th>\n",
              "      <th>εμβόλιο pfizer</th>\n",
              "      <th>εμβόλιο κορωνοϊού</th>\n",
              "      <th>ηλικιακή ομάδα</th>\n",
              "    </tr>\n",
              "  </thead>\n",
              "  <tbody>\n",
              "    <tr>\n",
              "      <th>0</th>\n",
              "      <td>0</td>\n",
              "      <td>0</td>\n",
              "      <td>0</td>\n",
              "      <td>0</td>\n",
              "      <td>2</td>\n",
              "      <td>0</td>\n",
              "      <td>0</td>\n",
              "      <td>0</td>\n",
              "      <td>1</td>\n",
              "      <td>2</td>\n",
              "      <td>0</td>\n",
              "      <td>1</td>\n",
              "      <td>0</td>\n",
              "      <td>1</td>\n",
              "      <td>0</td>\n",
              "      <td>1</td>\n",
              "      <td>0</td>\n",
              "      <td>1</td>\n",
              "      <td>0</td>\n",
              "      <td>0</td>\n",
              "    </tr>\n",
              "    <tr>\n",
              "      <th>1</th>\n",
              "      <td>0</td>\n",
              "      <td>0</td>\n",
              "      <td>0</td>\n",
              "      <td>0</td>\n",
              "      <td>2</td>\n",
              "      <td>0</td>\n",
              "      <td>0</td>\n",
              "      <td>0</td>\n",
              "      <td>2</td>\n",
              "      <td>0</td>\n",
              "      <td>0</td>\n",
              "      <td>1</td>\n",
              "      <td>0</td>\n",
              "      <td>1</td>\n",
              "      <td>0</td>\n",
              "      <td>0</td>\n",
              "      <td>0</td>\n",
              "      <td>2</td>\n",
              "      <td>0</td>\n",
              "      <td>0</td>\n",
              "    </tr>\n",
              "    <tr>\n",
              "      <th>2</th>\n",
              "      <td>0</td>\n",
              "      <td>0</td>\n",
              "      <td>0</td>\n",
              "      <td>0</td>\n",
              "      <td>0</td>\n",
              "      <td>0</td>\n",
              "      <td>0</td>\n",
              "      <td>0</td>\n",
              "      <td>1</td>\n",
              "      <td>0</td>\n",
              "      <td>1</td>\n",
              "      <td>1</td>\n",
              "      <td>0</td>\n",
              "      <td>1</td>\n",
              "      <td>0</td>\n",
              "      <td>0</td>\n",
              "      <td>0</td>\n",
              "      <td>0</td>\n",
              "      <td>0</td>\n",
              "      <td>0</td>\n",
              "    </tr>\n",
              "    <tr>\n",
              "      <th>3</th>\n",
              "      <td>0</td>\n",
              "      <td>0</td>\n",
              "      <td>0</td>\n",
              "      <td>0</td>\n",
              "      <td>0</td>\n",
              "      <td>0</td>\n",
              "      <td>0</td>\n",
              "      <td>0</td>\n",
              "      <td>1</td>\n",
              "      <td>0</td>\n",
              "      <td>0</td>\n",
              "      <td>1</td>\n",
              "      <td>0</td>\n",
              "      <td>1</td>\n",
              "      <td>0</td>\n",
              "      <td>0</td>\n",
              "      <td>0</td>\n",
              "      <td>1</td>\n",
              "      <td>0</td>\n",
              "      <td>0</td>\n",
              "    </tr>\n",
              "    <tr>\n",
              "      <th>4</th>\n",
              "      <td>0</td>\n",
              "      <td>1</td>\n",
              "      <td>0</td>\n",
              "      <td>0</td>\n",
              "      <td>0</td>\n",
              "      <td>0</td>\n",
              "      <td>0</td>\n",
              "      <td>0</td>\n",
              "      <td>1</td>\n",
              "      <td>0</td>\n",
              "      <td>0</td>\n",
              "      <td>1</td>\n",
              "      <td>0</td>\n",
              "      <td>1</td>\n",
              "      <td>0</td>\n",
              "      <td>1</td>\n",
              "      <td>0</td>\n",
              "      <td>0</td>\n",
              "      <td>1</td>\n",
              "      <td>0</td>\n",
              "    </tr>\n",
              "  </tbody>\n",
              "</table>\n",
              "</div>"
            ],
            "text/plain": [
              "   60 ετών  covid 19  gov gr  ...  εμβόλιο pfizer  εμβόλιο κορωνοϊού  ηλικιακή ομάδα\n",
              "0        0         0       0  ...               1                  0               0\n",
              "1        0         0       0  ...               2                  0               0\n",
              "2        0         0       0  ...               0                  0               0\n",
              "3        0         0       0  ...               1                  0               0\n",
              "4        0         1       0  ...               0                  1               0\n",
              "\n",
              "[5 rows x 20 columns]"
            ]
          },
          "metadata": {
            "tags": []
          },
          "execution_count": 53
        }
      ]
    },
    {
      "cell_type": "code",
      "metadata": {
        "colab": {
          "base_uri": "https://localhost:8080/"
        },
        "id": "cAT7OFiu6eXR",
        "outputId": "db60bb63-4f2c-421a-8d73-9f379edf119d"
      },
      "source": [
        "results1.sum(axis =0).sort_values(ascending = False)"
      ],
      "execution_count": null,
      "outputs": [
        {
          "output_type": "execute_result",
          "data": {
            "text/plain": [
              "covid 19                1753\n",
              "απε μπε                  881\n",
              "πηγή απε                 850\n",
              "skai gr                  638\n",
              "πηγή skai                620\n",
              "εμβόλιο astrazeneca      491\n",
              "pfizer biontech          419\n",
              "sars cov                 378\n",
              "δόση εμβολίου            370\n",
              "johnson johnson          369\n",
              "δεύτερη δόση             353\n",
              "δόσεις εμβολίου          316\n",
              "εκατομμύρια δόσεις       276\n",
              "υπουργός υγείας          267\n",
              "κυριάκος μητσοτάκης      264\n",
              "εμβολίου astrazeneca     250\n",
              "εμβόλιο pfizer           208\n",
              "view this                206\n",
              "ηνωμένο βασίλειο         201\n",
              "html5 video              200\n",
              "dtype: int64"
            ]
          },
          "metadata": {
            "tags": []
          },
          "execution_count": 54
        }
      ]
    },
    {
      "cell_type": "code",
      "metadata": {
        "id": "MswuPzCxr8cV"
      },
      "source": [
        "#Φτιάχνουμε γράφημα με τα 15 συχνότερα διγράμματα στο κείμενο του Skai\n",
        "results1.sum(axis =0).sort_values(ascending = False).head(15).plot(kind= 'bar', figsize= (10,6))"
      ],
      "execution_count": 54,
      "outputs": []
    },
    {
      "cell_type": "code",
      "metadata": {
        "colab": {
          "base_uri": "https://localhost:8080/"
        },
        "id": "XImJ97NQ6eZs",
        "outputId": "a4658164-38ee-4348-9adb-af11868337c9"
      },
      "source": [
        "results2.sum(axis =0).sort_values(ascending = False)"
      ],
      "execution_count": null,
      "outputs": [
        {
          "output_type": "execute_result",
          "data": {
            "text/plain": [
              "διαβάστε ειδήσεις       473\n",
              "ελλάδα κόσμο            469\n",
              "ειδήσεις ελλάδα         425\n",
              "εμβόλιο astrazeneca     411\n",
              "covid 19                332\n",
              "johnson johnson         230\n",
              "δόση εμβολίου           168\n",
              "δεύτερη δόση            165\n",
              "ειδήσεων star           135\n",
              "εμβόλιο pfizer          128\n",
              "pfizer biontech         124\n",
              "εμβόλιο johnson         110\n",
              "δελτίο ειδήσεων         109\n",
              "εμβολίου astrazeneca    101\n",
              "ηλικιακή ομάδα           85\n",
              "60 ετών                  85\n",
              "διαβάστε lifestyle       77\n",
              "δόσεις εμβολίου          75\n",
              "εμβόλιο κορωνοϊού        73\n",
              "gov gr                   72\n",
              "dtype: int64"
            ]
          },
          "metadata": {
            "tags": []
          },
          "execution_count": 58
        }
      ]
    },
    {
      "cell_type": "code",
      "metadata": {
        "id": "O-NN_Ws5sIta"
      },
      "source": [
        "#Φτιάχνουμε γράφημα με τα 15 συχνότερα διγράμματα στο κείμενο του Star\n",
        "results2.sum(axis =0).sort_values(ascending = False).head(15).plot(kind= 'bar', figsize= (10,6), color= 'brown')"
      ],
      "execution_count": 55,
      "outputs": []
    },
    {
      "cell_type": "markdown",
      "metadata": {
        "id": "zmhQ0s-SbQul"
      },
      "source": [
        "## Βρίσκουμε την ομοιότητα των κειμένων"
      ]
    },
    {
      "cell_type": "code",
      "metadata": {
        "id": "lOuxZEy8bUqJ"
      },
      "source": [
        "from sklearn.feature_extraction.text import TfidfVectorizer"
      ],
      "execution_count": null,
      "outputs": []
    },
    {
      "cell_type": "code",
      "metadata": {
        "id": "qrv45VVkbUsw"
      },
      "source": [
        "tfidf_vectorizer1 = TfidfVectorizer(stop_words= nlp.Defaults.stop_words, max_features=500)\n",
        "tfidf_matrix_train1 = tfidf_vectorizer1.fit_transform(skai_df['body']) "
      ],
      "execution_count": null,
      "outputs": []
    },
    {
      "cell_type": "code",
      "metadata": {
        "id": "0qUXu99MbUuy"
      },
      "source": [
        "tfidf_vectorizer2 = TfidfVectorizer(stop_words= nlp.Defaults.stop_words, max_features=500)\n",
        "tfidf_matrix_train2 = tfidf_vectorizer2.fit_transform(star_df['body'])  "
      ],
      "execution_count": null,
      "outputs": []
    },
    {
      "cell_type": "code",
      "metadata": {
        "id": "oiZ_dahobUxZ"
      },
      "source": [
        "results1 = pd.DataFrame(tfidf_matrix_train1.toarray(), columns=tfidf_vectorizer1.get_feature_names()) \n",
        "results1.head()"
      ],
      "execution_count": 69,
      "outputs": []
    },
    {
      "cell_type": "code",
      "metadata": {
        "id": "PX7lFvi9bUzd"
      },
      "source": [
        "results2 = pd.DataFrame(tfidf_matrix_train2.toarray(), columns=tfidf_vectorizer2.get_feature_names()) \n",
        "results2.head()"
      ],
      "execution_count": 70,
      "outputs": []
    },
    {
      "cell_type": "code",
      "metadata": {
        "id": "DdnwTOEvb63a"
      },
      "source": [
        "from sklearn.metrics.pairwise import cosine_similarity\n",
        "\n",
        "print(\"cosine scores ==> \",cosine_similarity(tfidf_matrix_train1, tfidf_matrix_train1))"
      ],
      "execution_count": 67,
      "outputs": []
    },
    {
      "cell_type": "code",
      "metadata": {
        "id": "npnu8EErdIG6"
      },
      "source": [
        "print(\"cosine scores ==> \",cosine_similarity(tfidf_matrix_train2, tfidf_matrix_train2))"
      ],
      "execution_count": 68,
      "outputs": []
    },
    {
      "cell_type": "code",
      "metadata": {
        "id": "hyN9AGc5dIME"
      },
      "source": [
        "arr1 = cosine_similarity(tfidf_matrix_train1, tfidf_matrix_train1)"
      ],
      "execution_count": null,
      "outputs": []
    },
    {
      "cell_type": "code",
      "metadata": {
        "id": "YUv9L4jpdvdM"
      },
      "source": [
        "arr2 = cosine_similarity(tfidf_matrix_train2, tfidf_matrix_train2)"
      ],
      "execution_count": null,
      "outputs": []
    },
    {
      "cell_type": "markdown",
      "metadata": {
        "id": "tehbn6CRqX25"
      },
      "source": [
        "## Δημιουργούμε τα δύο Heatmap"
      ]
    },
    {
      "cell_type": "code",
      "metadata": {
        "id": "FSwmYt-ceHu8"
      },
      "source": [
        "import seaborn as sb\n",
        "from matplotlib.colors import ListedColormap"
      ],
      "execution_count": null,
      "outputs": []
    },
    {
      "cell_type": "code",
      "metadata": {
        "id": "E7vNzyIFoEdu"
      },
      "source": [
        "#Κάνουμε dataframe τις δύο λίστες με τα cosine scores\n",
        "plt_df1 = pd.DataFrame(arr1)\n",
        "plt_df2 = pd.DataFrame(arr2)"
      ],
      "execution_count": null,
      "outputs": []
    },
    {
      "cell_type": "code",
      "metadata": {
        "id": "R-7OgqqU8p9u"
      },
      "source": [
        "plt_df1.head()"
      ],
      "execution_count": 65,
      "outputs": []
    },
    {
      "cell_type": "code",
      "metadata": {
        "id": "dB6QSW9HikhY"
      },
      "source": [
        "plt_df2.head()"
      ],
      "execution_count": 66,
      "outputs": []
    },
    {
      "cell_type": "code",
      "metadata": {
        "id": "eIqzYcsU8h0r"
      },
      "source": [
        "# Φτιάχνουμε το Heatmap του Skai\n",
        "\n",
        "# Δημιουργούμε έναν πίνακα, ορίζοντας το index κάθε γραμμής από το df του plt_df1 (άρθρα του Skai).\n",
        "# Στη συνέχεια βρίσκουμε τα 20 άρθρα με την μεγαλύτερη ομοιότητα και τα αθροίζουμε.\n",
        "scores1 = []\n",
        "for index, row in plt_df1.iterrows():\n",
        "  scores1.append({ 'i' : index, 'similarity_score': row.sort_values(ascending = False).head(20).sum()})\n",
        "\n",
        "# Ορίζουμε ως dataframe την συνθήκη που κάναμε πριν\n",
        "scores1 = pd.DataFrame(scores1)\n",
        "\n",
        "# Παίρνουμε τα 20 άρθρα από το dataframe scores1\n",
        "top20scores1 = scores1.sort_values('similarity_score', ascending=False).head(20)\n",
        "\n",
        "# Στη συνέχεια παίρουμε τα άρθρα, το index και τις στήλες από τα 20 άρθρα με τη μεγαλύτερη ομοιότητα.\n",
        "top20similar1 =  plt_df1.loc[list(top20scores1['i'])][list(top20scores1.head(20)['i'])]\n",
        "\n",
        "# Δημιουργούμε το Heatmap\n",
        "plt.figure(figsize=(15,12))\n",
        "sb.heatmap(top20similar1, annot=True, cmap=plt.cm.Blues)\n",
        "plt.title('Ομοιότητα άρθρων Skai', fontsize=13)\n",
        "plt.show()"
      ],
      "execution_count": 56,
      "outputs": []
    },
    {
      "cell_type": "code",
      "metadata": {
        "id": "OBalCEuC9dMv"
      },
      "source": [
        "# Φτιάχνουμε το Heatmap του Star\n",
        "\n",
        "# Κάνουμε την ίδια διαδικασία με πριν, αλλάζοντας το dataframe για να πάρουμε τα άρθρα του Star\n",
        "scores2 = []\n",
        "for index, row in plt_df2.iterrows():\n",
        "  scores2.append({ 'i' : index, 'similarity_score': row.sort_values(ascending = False).head(20).sum()})\n",
        "\n",
        "scores2 = pd.DataFrame(scores2)\n",
        "\n",
        "top20scores2 = scores2.sort_values('similarity_score', ascending=False).head(20)\n",
        "\n",
        "top20similar2 =  plt_df2.loc[list(top20scores2['i'])][list(top20scores2.head(20)['i'])]\n",
        "\n",
        "plt.figure(figsize=(15,12))\n",
        "sb.heatmap(top20similar2, annot=True, cmap=plt.cm.OrRd)\n",
        "plt.title('Ομοιότητα άρθρων Star', fontsize=13)\n",
        "plt.show()"
      ],
      "execution_count": 57,
      "outputs": []
    },
    {
      "cell_type": "code",
      "metadata": {
        "id": "7jTidRtc9dQW"
      },
      "source": [
        ""
      ],
      "execution_count": null,
      "outputs": []
    },
    {
      "cell_type": "code",
      "metadata": {
        "id": "piIyUGzcevxq"
      },
      "source": [
        ""
      ],
      "execution_count": null,
      "outputs": []
    }
  ]
}